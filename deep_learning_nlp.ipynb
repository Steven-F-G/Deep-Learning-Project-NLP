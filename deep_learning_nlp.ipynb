{
 "cells": [
  {
   "cell_type": "code",
   "execution_count": 1,
   "metadata": {
    "execution": {
     "iopub.execute_input": "2021-05-21T16:41:08.236584Z",
     "iopub.status.busy": "2021-05-21T16:41:08.236049Z",
     "iopub.status.idle": "2021-05-21T16:41:08.534656Z",
     "shell.execute_reply": "2021-05-21T16:41:08.533594Z",
     "shell.execute_reply.started": "2021-05-21T16:41:08.236466Z"
    }
   },
   "outputs": [],
   "source": [
    "import numpy as np\n",
    "import pandas as pd\n",
    "from collections import Counter\n",
    "from sklearn.preprocessing import LabelEncoder"
   ]
  },
  {
   "cell_type": "code",
   "execution_count": 2,
   "metadata": {
    "execution": {
     "iopub.execute_input": "2021-05-21T16:41:08.536521Z",
     "iopub.status.busy": "2021-05-21T16:41:08.536123Z",
     "iopub.status.idle": "2021-05-21T16:41:08.668914Z",
     "shell.execute_reply": "2021-05-21T16:41:08.668118Z",
     "shell.execute_reply.started": "2021-05-21T16:41:08.536476Z"
    }
   },
   "outputs": [],
   "source": [
    "import pandas as pd\n",
    "df = pd.read_csv(\"../input/covid-19-nlp-text-classification/Corona_NLP_train.csv\",encoding='latin1')"
   ]
  },
  {
   "cell_type": "code",
   "execution_count": 3,
   "metadata": {
    "execution": {
     "iopub.execute_input": "2021-05-21T16:41:08.672024Z",
     "iopub.status.busy": "2021-05-21T16:41:08.671519Z",
     "iopub.status.idle": "2021-05-21T16:41:08.676664Z",
     "shell.execute_reply": "2021-05-21T16:41:08.675866Z",
     "shell.execute_reply.started": "2021-05-21T16:41:08.671983Z"
    }
   },
   "outputs": [],
   "source": [
    "no_classes=3"
   ]
  },
  {
   "cell_type": "code",
   "execution_count": 4,
   "metadata": {
    "execution": {
     "iopub.execute_input": "2021-05-21T16:41:08.678703Z",
     "iopub.status.busy": "2021-05-21T16:41:08.678324Z",
     "iopub.status.idle": "2021-05-21T16:41:08.702434Z",
     "shell.execute_reply": "2021-05-21T16:41:08.701492Z",
     "shell.execute_reply.started": "2021-05-21T16:41:08.678668Z"
    }
   },
   "outputs": [
    {
     "data": {
      "text/html": [
       "<div>\n",
       "<style scoped>\n",
       "    .dataframe tbody tr th:only-of-type {\n",
       "        vertical-align: middle;\n",
       "    }\n",
       "\n",
       "    .dataframe tbody tr th {\n",
       "        vertical-align: top;\n",
       "    }\n",
       "\n",
       "    .dataframe thead th {\n",
       "        text-align: right;\n",
       "    }\n",
       "</style>\n",
       "<table border=\"1\" class=\"dataframe\">\n",
       "  <thead>\n",
       "    <tr style=\"text-align: right;\">\n",
       "      <th></th>\n",
       "      <th>UserName</th>\n",
       "      <th>ScreenName</th>\n",
       "      <th>Location</th>\n",
       "      <th>TweetAt</th>\n",
       "      <th>OriginalTweet</th>\n",
       "      <th>Sentiment</th>\n",
       "    </tr>\n",
       "  </thead>\n",
       "  <tbody>\n",
       "    <tr>\n",
       "      <th>0</th>\n",
       "      <td>3799</td>\n",
       "      <td>48751</td>\n",
       "      <td>London</td>\n",
       "      <td>16-03-2020</td>\n",
       "      <td>@MeNyrbie @Phil_Gahan @Chrisitv https://t.co/i...</td>\n",
       "      <td>Neutral</td>\n",
       "    </tr>\n",
       "    <tr>\n",
       "      <th>1</th>\n",
       "      <td>3800</td>\n",
       "      <td>48752</td>\n",
       "      <td>UK</td>\n",
       "      <td>16-03-2020</td>\n",
       "      <td>advice Talk to your neighbours family to excha...</td>\n",
       "      <td>Positive</td>\n",
       "    </tr>\n",
       "    <tr>\n",
       "      <th>2</th>\n",
       "      <td>3801</td>\n",
       "      <td>48753</td>\n",
       "      <td>Vagabonds</td>\n",
       "      <td>16-03-2020</td>\n",
       "      <td>Coronavirus Australia: Woolworths to give elde...</td>\n",
       "      <td>Positive</td>\n",
       "    </tr>\n",
       "    <tr>\n",
       "      <th>3</th>\n",
       "      <td>3802</td>\n",
       "      <td>48754</td>\n",
       "      <td>NaN</td>\n",
       "      <td>16-03-2020</td>\n",
       "      <td>My food stock is not the only one which is emp...</td>\n",
       "      <td>Positive</td>\n",
       "    </tr>\n",
       "    <tr>\n",
       "      <th>4</th>\n",
       "      <td>3803</td>\n",
       "      <td>48755</td>\n",
       "      <td>NaN</td>\n",
       "      <td>16-03-2020</td>\n",
       "      <td>Me, ready to go at supermarket during the #COV...</td>\n",
       "      <td>Extremely Negative</td>\n",
       "    </tr>\n",
       "    <tr>\n",
       "      <th>...</th>\n",
       "      <td>...</td>\n",
       "      <td>...</td>\n",
       "      <td>...</td>\n",
       "      <td>...</td>\n",
       "      <td>...</td>\n",
       "      <td>...</td>\n",
       "    </tr>\n",
       "    <tr>\n",
       "      <th>41152</th>\n",
       "      <td>44951</td>\n",
       "      <td>89903</td>\n",
       "      <td>Wellington City, New Zealand</td>\n",
       "      <td>14-04-2020</td>\n",
       "      <td>Airline pilots offering to stock supermarket s...</td>\n",
       "      <td>Neutral</td>\n",
       "    </tr>\n",
       "    <tr>\n",
       "      <th>41153</th>\n",
       "      <td>44952</td>\n",
       "      <td>89904</td>\n",
       "      <td>NaN</td>\n",
       "      <td>14-04-2020</td>\n",
       "      <td>Response to complaint not provided citing COVI...</td>\n",
       "      <td>Extremely Negative</td>\n",
       "    </tr>\n",
       "    <tr>\n",
       "      <th>41154</th>\n",
       "      <td>44953</td>\n",
       "      <td>89905</td>\n",
       "      <td>NaN</td>\n",
       "      <td>14-04-2020</td>\n",
       "      <td>You know itÂs getting tough when @KameronWild...</td>\n",
       "      <td>Positive</td>\n",
       "    </tr>\n",
       "    <tr>\n",
       "      <th>41155</th>\n",
       "      <td>44954</td>\n",
       "      <td>89906</td>\n",
       "      <td>NaN</td>\n",
       "      <td>14-04-2020</td>\n",
       "      <td>Is it wrong that the smell of hand sanitizer i...</td>\n",
       "      <td>Neutral</td>\n",
       "    </tr>\n",
       "    <tr>\n",
       "      <th>41156</th>\n",
       "      <td>44955</td>\n",
       "      <td>89907</td>\n",
       "      <td>i love you so much || he/him</td>\n",
       "      <td>14-04-2020</td>\n",
       "      <td>@TartiiCat Well new/used Rift S are going for ...</td>\n",
       "      <td>Negative</td>\n",
       "    </tr>\n",
       "  </tbody>\n",
       "</table>\n",
       "<p>41157 rows × 6 columns</p>\n",
       "</div>"
      ],
      "text/plain": [
       "       UserName  ScreenName                      Location     TweetAt  \\\n",
       "0          3799       48751                        London  16-03-2020   \n",
       "1          3800       48752                            UK  16-03-2020   \n",
       "2          3801       48753                     Vagabonds  16-03-2020   \n",
       "3          3802       48754                           NaN  16-03-2020   \n",
       "4          3803       48755                           NaN  16-03-2020   \n",
       "...         ...         ...                           ...         ...   \n",
       "41152     44951       89903  Wellington City, New Zealand  14-04-2020   \n",
       "41153     44952       89904                           NaN  14-04-2020   \n",
       "41154     44953       89905                           NaN  14-04-2020   \n",
       "41155     44954       89906                           NaN  14-04-2020   \n",
       "41156     44955       89907  i love you so much || he/him  14-04-2020   \n",
       "\n",
       "                                           OriginalTweet           Sentiment  \n",
       "0      @MeNyrbie @Phil_Gahan @Chrisitv https://t.co/i...             Neutral  \n",
       "1      advice Talk to your neighbours family to excha...            Positive  \n",
       "2      Coronavirus Australia: Woolworths to give elde...            Positive  \n",
       "3      My food stock is not the only one which is emp...            Positive  \n",
       "4      Me, ready to go at supermarket during the #COV...  Extremely Negative  \n",
       "...                                                  ...                 ...  \n",
       "41152  Airline pilots offering to stock supermarket s...             Neutral  \n",
       "41153  Response to complaint not provided citing COVI...  Extremely Negative  \n",
       "41154  You know itÂs getting tough when @KameronWild...            Positive  \n",
       "41155  Is it wrong that the smell of hand sanitizer i...             Neutral  \n",
       "41156  @TartiiCat Well new/used Rift S are going for ...            Negative  \n",
       "\n",
       "[41157 rows x 6 columns]"
      ]
     },
     "execution_count": 4,
     "metadata": {},
     "output_type": "execute_result"
    }
   ],
   "source": [
    "df"
   ]
  },
  {
   "cell_type": "code",
   "execution_count": 5,
   "metadata": {
    "execution": {
     "iopub.execute_input": "2021-05-21T16:41:08.703920Z",
     "iopub.status.busy": "2021-05-21T16:41:08.703541Z",
     "iopub.status.idle": "2021-05-21T16:41:08.714409Z",
     "shell.execute_reply": "2021-05-21T16:41:08.713387Z",
     "shell.execute_reply.started": "2021-05-21T16:41:08.703891Z"
    }
   },
   "outputs": [
    {
     "data": {
      "text/plain": [
       "5"
      ]
     },
     "execution_count": 5,
     "metadata": {},
     "output_type": "execute_result"
    }
   ],
   "source": [
    "df.Sentiment.nunique()"
   ]
  },
  {
   "cell_type": "code",
   "execution_count": 6,
   "metadata": {
    "execution": {
     "iopub.execute_input": "2021-05-21T16:41:08.716229Z",
     "iopub.status.busy": "2021-05-21T16:41:08.715856Z",
     "iopub.status.idle": "2021-05-21T16:41:08.731039Z",
     "shell.execute_reply": "2021-05-21T16:41:08.730263Z",
     "shell.execute_reply.started": "2021-05-21T16:41:08.716195Z"
    }
   },
   "outputs": [],
   "source": [
    "df.Sentiment=df.Sentiment.replace({'Extremely Positive':'Positive','Extremely Negative':'Negative'})"
   ]
  },
  {
   "cell_type": "code",
   "execution_count": 7,
   "metadata": {
    "execution": {
     "iopub.execute_input": "2021-05-21T16:41:08.733079Z",
     "iopub.status.busy": "2021-05-21T16:41:08.732478Z",
     "iopub.status.idle": "2021-05-21T16:41:08.742009Z",
     "shell.execute_reply": "2021-05-21T16:41:08.740898Z",
     "shell.execute_reply.started": "2021-05-21T16:41:08.733028Z"
    }
   },
   "outputs": [
    {
     "data": {
      "text/plain": [
       "3"
      ]
     },
     "execution_count": 7,
     "metadata": {},
     "output_type": "execute_result"
    }
   ],
   "source": [
    "df.Sentiment.nunique()"
   ]
  },
  {
   "cell_type": "code",
   "execution_count": 8,
   "metadata": {
    "execution": {
     "iopub.execute_input": "2021-05-21T16:41:08.746321Z",
     "iopub.status.busy": "2021-05-21T16:41:08.745808Z",
     "iopub.status.idle": "2021-05-21T16:41:08.934697Z",
     "shell.execute_reply": "2021-05-21T16:41:08.933588Z",
     "shell.execute_reply.started": "2021-05-21T16:41:08.746284Z"
    }
   },
   "outputs": [],
   "source": [
    "from sklearn.preprocessing import LabelBinarizer\n",
    "lb = LabelBinarizer()\n",
    "y = lb.fit_transform(df.Sentiment)"
   ]
  },
  {
   "cell_type": "code",
   "execution_count": 9,
   "metadata": {
    "execution": {
     "iopub.execute_input": "2021-05-21T16:41:08.936882Z",
     "iopub.status.busy": "2021-05-21T16:41:08.936520Z",
     "iopub.status.idle": "2021-05-21T16:41:08.945125Z",
     "shell.execute_reply": "2021-05-21T16:41:08.944240Z",
     "shell.execute_reply.started": "2021-05-21T16:41:08.936846Z"
    }
   },
   "outputs": [
    {
     "data": {
      "text/plain": [
       "array(['Negative', 'Neutral', 'Positive'], dtype='<U8')"
      ]
     },
     "execution_count": 9,
     "metadata": {},
     "output_type": "execute_result"
    }
   ],
   "source": [
    "lb.classes_"
   ]
  },
  {
   "cell_type": "code",
   "execution_count": 10,
   "metadata": {
    "execution": {
     "iopub.execute_input": "2021-05-21T16:41:08.946498Z",
     "iopub.status.busy": "2021-05-21T16:41:08.946238Z",
     "iopub.status.idle": "2021-05-21T16:41:08.953565Z",
     "shell.execute_reply": "2021-05-21T16:41:08.952631Z",
     "shell.execute_reply.started": "2021-05-21T16:41:08.946471Z"
    }
   },
   "outputs": [
    {
     "data": {
      "text/plain": [
       "(41157, 3)"
      ]
     },
     "execution_count": 10,
     "metadata": {},
     "output_type": "execute_result"
    }
   ],
   "source": [
    "y.shape"
   ]
  },
  {
   "cell_type": "code",
   "execution_count": 11,
   "metadata": {
    "execution": {
     "iopub.execute_input": "2021-05-21T16:41:08.955504Z",
     "iopub.status.busy": "2021-05-21T16:41:08.955168Z",
     "iopub.status.idle": "2021-05-21T16:41:09.347489Z",
     "shell.execute_reply": "2021-05-21T16:41:09.346489Z",
     "shell.execute_reply.started": "2021-05-21T16:41:08.955470Z"
    }
   },
   "outputs": [
    {
     "data": {
      "text/html": [
       "<div>\n",
       "<style scoped>\n",
       "    .dataframe tbody tr th:only-of-type {\n",
       "        vertical-align: middle;\n",
       "    }\n",
       "\n",
       "    .dataframe tbody tr th {\n",
       "        vertical-align: top;\n",
       "    }\n",
       "\n",
       "    .dataframe thead th {\n",
       "        text-align: right;\n",
       "    }\n",
       "</style>\n",
       "<table border=\"1\" class=\"dataframe\">\n",
       "  <thead>\n",
       "    <tr style=\"text-align: right;\">\n",
       "      <th></th>\n",
       "      <th>UserName</th>\n",
       "      <th>ScreenName</th>\n",
       "      <th>Location</th>\n",
       "      <th>TweetAt</th>\n",
       "      <th>OriginalTweet</th>\n",
       "      <th>Sentiment</th>\n",
       "    </tr>\n",
       "  </thead>\n",
       "  <tbody>\n",
       "    <tr>\n",
       "      <th>0</th>\n",
       "      <td>3799</td>\n",
       "      <td>48751</td>\n",
       "      <td>London</td>\n",
       "      <td>16-03-2020</td>\n",
       "      <td>MeNyrbie Phil_Gahan Chrisitv httpstcoiFz9FAn2P...</td>\n",
       "      <td>Neutral</td>\n",
       "    </tr>\n",
       "    <tr>\n",
       "      <th>1</th>\n",
       "      <td>3800</td>\n",
       "      <td>48752</td>\n",
       "      <td>UK</td>\n",
       "      <td>16-03-2020</td>\n",
       "      <td>advice Talk to your neighbours family to excha...</td>\n",
       "      <td>Positive</td>\n",
       "    </tr>\n",
       "    <tr>\n",
       "      <th>2</th>\n",
       "      <td>3801</td>\n",
       "      <td>48753</td>\n",
       "      <td>Vagabonds</td>\n",
       "      <td>16-03-2020</td>\n",
       "      <td>Coronavirus Australia Woolworths to give elder...</td>\n",
       "      <td>Positive</td>\n",
       "    </tr>\n",
       "    <tr>\n",
       "      <th>3</th>\n",
       "      <td>3802</td>\n",
       "      <td>48754</td>\n",
       "      <td>NaN</td>\n",
       "      <td>16-03-2020</td>\n",
       "      <td>My food stock is not the only one which is emp...</td>\n",
       "      <td>Positive</td>\n",
       "    </tr>\n",
       "    <tr>\n",
       "      <th>4</th>\n",
       "      <td>3803</td>\n",
       "      <td>48755</td>\n",
       "      <td>NaN</td>\n",
       "      <td>16-03-2020</td>\n",
       "      <td>Me ready to go at supermarket during the COVID...</td>\n",
       "      <td>Negative</td>\n",
       "    </tr>\n",
       "  </tbody>\n",
       "</table>\n",
       "</div>"
      ],
      "text/plain": [
       "   UserName  ScreenName   Location     TweetAt  \\\n",
       "0      3799       48751     London  16-03-2020   \n",
       "1      3800       48752         UK  16-03-2020   \n",
       "2      3801       48753  Vagabonds  16-03-2020   \n",
       "3      3802       48754        NaN  16-03-2020   \n",
       "4      3803       48755        NaN  16-03-2020   \n",
       "\n",
       "                                       OriginalTweet Sentiment  \n",
       "0  MeNyrbie Phil_Gahan Chrisitv httpstcoiFz9FAn2P...   Neutral  \n",
       "1  advice Talk to your neighbours family to excha...  Positive  \n",
       "2  Coronavirus Australia Woolworths to give elder...  Positive  \n",
       "3  My food stock is not the only one which is emp...  Positive  \n",
       "4  Me ready to go at supermarket during the COVID...  Negative  "
      ]
     },
     "execution_count": 11,
     "metadata": {},
     "output_type": "execute_result"
    }
   ],
   "source": [
    "df[\"OriginalTweet\"]=df[\"OriginalTweet\"].str.replace('[^\\w\\s]', '')\n",
    "df.head()"
   ]
  },
  {
   "cell_type": "code",
   "execution_count": 12,
   "metadata": {
    "execution": {
     "iopub.execute_input": "2021-05-21T16:41:09.349326Z",
     "iopub.status.busy": "2021-05-21T16:41:09.348950Z",
     "iopub.status.idle": "2021-05-21T16:41:11.887205Z",
     "shell.execute_reply": "2021-05-21T16:41:11.886258Z",
     "shell.execute_reply.started": "2021-05-21T16:41:09.349288Z"
    }
   },
   "outputs": [
    {
     "data": {
      "text/html": [
       "<div>\n",
       "<style scoped>\n",
       "    .dataframe tbody tr th:only-of-type {\n",
       "        vertical-align: middle;\n",
       "    }\n",
       "\n",
       "    .dataframe tbody tr th {\n",
       "        vertical-align: top;\n",
       "    }\n",
       "\n",
       "    .dataframe thead th {\n",
       "        text-align: right;\n",
       "    }\n",
       "</style>\n",
       "<table border=\"1\" class=\"dataframe\">\n",
       "  <thead>\n",
       "    <tr style=\"text-align: right;\">\n",
       "      <th></th>\n",
       "      <th>UserName</th>\n",
       "      <th>ScreenName</th>\n",
       "      <th>Location</th>\n",
       "      <th>TweetAt</th>\n",
       "      <th>OriginalTweet</th>\n",
       "      <th>Sentiment</th>\n",
       "    </tr>\n",
       "  </thead>\n",
       "  <tbody>\n",
       "    <tr>\n",
       "      <th>0</th>\n",
       "      <td>3799</td>\n",
       "      <td>48751</td>\n",
       "      <td>London</td>\n",
       "      <td>16-03-2020</td>\n",
       "      <td>MeNyrbie Phil_Gahan Chrisitv httpstcoiFz9FAn2P...</td>\n",
       "      <td>Neutral</td>\n",
       "    </tr>\n",
       "    <tr>\n",
       "      <th>1</th>\n",
       "      <td>3800</td>\n",
       "      <td>48752</td>\n",
       "      <td>UK</td>\n",
       "      <td>16-03-2020</td>\n",
       "      <td>advice Talk neighbours family exchange phone n...</td>\n",
       "      <td>Positive</td>\n",
       "    </tr>\n",
       "    <tr>\n",
       "      <th>2</th>\n",
       "      <td>3801</td>\n",
       "      <td>48753</td>\n",
       "      <td>Vagabonds</td>\n",
       "      <td>16-03-2020</td>\n",
       "      <td>Coronavirus Australia Woolworths give elderly ...</td>\n",
       "      <td>Positive</td>\n",
       "    </tr>\n",
       "    <tr>\n",
       "      <th>3</th>\n",
       "      <td>3802</td>\n",
       "      <td>48754</td>\n",
       "      <td>NaN</td>\n",
       "      <td>16-03-2020</td>\n",
       "      <td>My food stock one empty PLEASE dont panic THER...</td>\n",
       "      <td>Positive</td>\n",
       "    </tr>\n",
       "    <tr>\n",
       "      <th>4</th>\n",
       "      <td>3803</td>\n",
       "      <td>48755</td>\n",
       "      <td>NaN</td>\n",
       "      <td>16-03-2020</td>\n",
       "      <td>Me ready go supermarket COVID19 outbreak Not I...</td>\n",
       "      <td>Negative</td>\n",
       "    </tr>\n",
       "  </tbody>\n",
       "</table>\n",
       "</div>"
      ],
      "text/plain": [
       "   UserName  ScreenName   Location     TweetAt  \\\n",
       "0      3799       48751     London  16-03-2020   \n",
       "1      3800       48752         UK  16-03-2020   \n",
       "2      3801       48753  Vagabonds  16-03-2020   \n",
       "3      3802       48754        NaN  16-03-2020   \n",
       "4      3803       48755        NaN  16-03-2020   \n",
       "\n",
       "                                       OriginalTweet Sentiment  \n",
       "0  MeNyrbie Phil_Gahan Chrisitv httpstcoiFz9FAn2P...   Neutral  \n",
       "1  advice Talk neighbours family exchange phone n...  Positive  \n",
       "2  Coronavirus Australia Woolworths give elderly ...  Positive  \n",
       "3  My food stock one empty PLEASE dont panic THER...  Positive  \n",
       "4  Me ready go supermarket COVID19 outbreak Not I...  Negative  "
      ]
     },
     "execution_count": 12,
     "metadata": {},
     "output_type": "execute_result"
    }
   ],
   "source": [
    "import nltk\n",
    "from nltk.corpus import stopwords\n",
    "sw=stopwords.words('english')\n",
    "df[\"OriginalTweet\"]=df[\"OriginalTweet\"].apply(lambda x: \" \".join(x for x in x.split() if x not in sw))\n",
    "df.head()"
   ]
  },
  {
   "cell_type": "code",
   "execution_count": 13,
   "metadata": {
    "execution": {
     "iopub.execute_input": "2021-05-21T16:41:11.889041Z",
     "iopub.status.busy": "2021-05-21T16:41:11.888665Z",
     "iopub.status.idle": "2021-05-21T16:41:19.789081Z",
     "shell.execute_reply": "2021-05-21T16:41:19.788224Z",
     "shell.execute_reply.started": "2021-05-21T16:41:11.889000Z"
    }
   },
   "outputs": [
    {
     "data": {
      "text/html": [
       "<div>\n",
       "<style scoped>\n",
       "    .dataframe tbody tr th:only-of-type {\n",
       "        vertical-align: middle;\n",
       "    }\n",
       "\n",
       "    .dataframe tbody tr th {\n",
       "        vertical-align: top;\n",
       "    }\n",
       "\n",
       "    .dataframe thead th {\n",
       "        text-align: right;\n",
       "    }\n",
       "</style>\n",
       "<table border=\"1\" class=\"dataframe\">\n",
       "  <thead>\n",
       "    <tr style=\"text-align: right;\">\n",
       "      <th></th>\n",
       "      <th>UserName</th>\n",
       "      <th>ScreenName</th>\n",
       "      <th>Location</th>\n",
       "      <th>TweetAt</th>\n",
       "      <th>OriginalTweet</th>\n",
       "      <th>Sentiment</th>\n",
       "    </tr>\n",
       "  </thead>\n",
       "  <tbody>\n",
       "    <tr>\n",
       "      <th>0</th>\n",
       "      <td>3799</td>\n",
       "      <td>48751</td>\n",
       "      <td>London</td>\n",
       "      <td>16-03-2020</td>\n",
       "      <td>MeNyrbie Phil_Gahan Chrisitv httpstcoiFz9FAn2P...</td>\n",
       "      <td>Neutral</td>\n",
       "    </tr>\n",
       "    <tr>\n",
       "      <th>1</th>\n",
       "      <td>3800</td>\n",
       "      <td>48752</td>\n",
       "      <td>UK</td>\n",
       "      <td>16-03-2020</td>\n",
       "      <td>advice Talk neighbour family exchange phone nu...</td>\n",
       "      <td>Positive</td>\n",
       "    </tr>\n",
       "    <tr>\n",
       "      <th>2</th>\n",
       "      <td>3801</td>\n",
       "      <td>48753</td>\n",
       "      <td>Vagabonds</td>\n",
       "      <td>16-03-2020</td>\n",
       "      <td>Coronavirus Australia Woolworths give elderly ...</td>\n",
       "      <td>Positive</td>\n",
       "    </tr>\n",
       "    <tr>\n",
       "      <th>3</th>\n",
       "      <td>3802</td>\n",
       "      <td>48754</td>\n",
       "      <td>NaN</td>\n",
       "      <td>16-03-2020</td>\n",
       "      <td>My food stock one empty PLEASE dont panic THER...</td>\n",
       "      <td>Positive</td>\n",
       "    </tr>\n",
       "    <tr>\n",
       "      <th>4</th>\n",
       "      <td>3803</td>\n",
       "      <td>48755</td>\n",
       "      <td>NaN</td>\n",
       "      <td>16-03-2020</td>\n",
       "      <td>Me ready go supermarket COVID19 outbreak Not I...</td>\n",
       "      <td>Negative</td>\n",
       "    </tr>\n",
       "  </tbody>\n",
       "</table>\n",
       "</div>"
      ],
      "text/plain": [
       "   UserName  ScreenName   Location     TweetAt  \\\n",
       "0      3799       48751     London  16-03-2020   \n",
       "1      3800       48752         UK  16-03-2020   \n",
       "2      3801       48753  Vagabonds  16-03-2020   \n",
       "3      3802       48754        NaN  16-03-2020   \n",
       "4      3803       48755        NaN  16-03-2020   \n",
       "\n",
       "                                       OriginalTweet Sentiment  \n",
       "0  MeNyrbie Phil_Gahan Chrisitv httpstcoiFz9FAn2P...   Neutral  \n",
       "1  advice Talk neighbour family exchange phone nu...  Positive  \n",
       "2  Coronavirus Australia Woolworths give elderly ...  Positive  \n",
       "3  My food stock one empty PLEASE dont panic THER...  Positive  \n",
       "4  Me ready go supermarket COVID19 outbreak Not I...  Negative  "
      ]
     },
     "execution_count": 13,
     "metadata": {},
     "output_type": "execute_result"
    }
   ],
   "source": [
    "from textblob import Word, TextBlob\n",
    "df[\"OriginalTweet\"]=df[\"OriginalTweet\"].apply(lambda x:\" \".join([Word(word).lemmatize() for word in x.split()]))\n",
    "df.head()"
   ]
  },
  {
   "cell_type": "code",
   "execution_count": 15,
   "metadata": {
    "execution": {
     "iopub.execute_input": "2021-05-21T16:41:19.893330Z",
     "iopub.status.busy": "2021-05-21T16:41:19.892977Z",
     "iopub.status.idle": "2021-05-21T16:41:19.904496Z",
     "shell.execute_reply": "2021-05-21T16:41:19.903557Z",
     "shell.execute_reply.started": "2021-05-21T16:41:19.893302Z"
    }
   },
   "outputs": [],
   "source": [
    "seqs = df['OriginalTweet']\n",
    "lengths = [len(s) for s in seqs]"
   ]
  },
  {
   "cell_type": "code",
   "execution_count": 16,
   "metadata": {
    "execution": {
     "iopub.execute_input": "2021-05-21T16:41:19.906682Z",
     "iopub.status.busy": "2021-05-21T16:41:19.906018Z",
     "iopub.status.idle": "2021-05-21T16:41:19.924360Z",
     "shell.execute_reply": "2021-05-21T16:41:19.922561Z",
     "shell.execute_reply.started": "2021-05-21T16:41:19.906641Z"
    }
   },
   "outputs": [
    {
     "data": {
      "text/plain": [
       "0        MeNyrbie Phil_Gahan Chrisitv httpstcoiFz9FAn2P...\n",
       "1        advice Talk neighbour family exchange phone nu...\n",
       "2        Coronavirus Australia Woolworths give elderly ...\n",
       "3        My food stock one empty PLEASE dont panic THER...\n",
       "4        Me ready go supermarket COVID19 outbreak Not I...\n",
       "                               ...                        \n",
       "41152    Airline pilot offering stock supermarket shelf...\n",
       "41153    Response complaint provided citing COVID19 rel...\n",
       "41154    You know itÂs getting tough KameronWilds ratio...\n",
       "41155    Is wrong smell hand sanitizer starting turn co...\n",
       "41156    TartiiCat Well newused Rift S going 70000 Amaz...\n",
       "Name: OriginalTweet, Length: 41157, dtype: object"
      ]
     },
     "execution_count": 16,
     "metadata": {},
     "output_type": "execute_result"
    }
   ],
   "source": [
    "seqs"
   ]
  },
  {
   "cell_type": "code",
   "execution_count": 17,
   "metadata": {
    "execution": {
     "iopub.execute_input": "2021-05-21T16:41:19.927558Z",
     "iopub.status.busy": "2021-05-21T16:41:19.926685Z",
     "iopub.status.idle": "2021-05-21T16:41:22.509983Z",
     "shell.execute_reply": "2021-05-21T16:41:22.509101Z",
     "shell.execute_reply.started": "2021-05-21T16:41:19.927512Z"
    }
   },
   "outputs": [],
   "source": [
    "from keras.preprocessing import text, sequence\n",
    "from keras.preprocessing.text import Tokenizer\n",
    "\n",
    "max_length = max(lengths)\n",
    "oov_token = \"<OOV>\"\n",
    "tokenizer = Tokenizer(oov_token=oov_token)\n",
    "tokenizer.fit_on_texts(seqs)"
   ]
  },
  {
   "cell_type": "code",
   "execution_count": 18,
   "metadata": {
    "execution": {
     "iopub.execute_input": "2021-05-21T16:41:22.511729Z",
     "iopub.status.busy": "2021-05-21T16:41:22.511368Z",
     "iopub.status.idle": "2021-05-21T16:41:23.669362Z",
     "shell.execute_reply": "2021-05-21T16:41:23.668346Z",
     "shell.execute_reply.started": "2021-05-21T16:41:22.511686Z"
    }
   },
   "outputs": [],
   "source": [
    "X_seq = tokenizer.texts_to_sequences(seqs)\n",
    "X_seq = sequence.pad_sequences(X_seq, maxlen=max_length)"
   ]
  },
  {
   "cell_type": "code",
   "execution_count": 19,
   "metadata": {
    "execution": {
     "iopub.execute_input": "2021-05-21T16:41:23.671139Z",
     "iopub.status.busy": "2021-05-21T16:41:23.670734Z",
     "iopub.status.idle": "2021-05-21T16:41:23.677643Z",
     "shell.execute_reply": "2021-05-21T16:41:23.676806Z",
     "shell.execute_reply.started": "2021-05-21T16:41:23.671097Z"
    }
   },
   "outputs": [
    {
     "name": "stdout",
     "output_type": "stream",
     "text": [
      "[[   0    0    0 ...    1    1    1]\n",
      " [   0    0    0 ... 1011 2678  118]\n",
      " [   0    0    0 ...    3   80    1]\n",
      " ...\n",
      " [   0    0    0 ...    1   30   34]\n",
      " [   0    0    0 ...    2    3    2]\n",
      " [   0    0    0 ...    3  777    1]]\n"
     ]
    }
   ],
   "source": [
    "print(X_seq)"
   ]
  },
  {
   "cell_type": "code",
   "execution_count": 20,
   "metadata": {
    "execution": {
     "iopub.execute_input": "2021-05-21T16:41:23.679643Z",
     "iopub.status.busy": "2021-05-21T16:41:23.679051Z",
     "iopub.status.idle": "2021-05-21T16:41:23.686967Z",
     "shell.execute_reply": "2021-05-21T16:41:23.686143Z",
     "shell.execute_reply.started": "2021-05-21T16:41:23.679604Z"
    }
   },
   "outputs": [],
   "source": [
    "#tokenizer.word_index"
   ]
  },
  {
   "cell_type": "code",
   "execution_count": 21,
   "metadata": {
    "execution": {
     "iopub.execute_input": "2021-05-21T16:41:23.688664Z",
     "iopub.status.busy": "2021-05-21T16:41:23.688220Z",
     "iopub.status.idle": "2021-05-21T16:41:23.696726Z",
     "shell.execute_reply": "2021-05-21T16:41:23.695931Z",
     "shell.execute_reply.started": "2021-05-21T16:41:23.688628Z"
    }
   },
   "outputs": [],
   "source": [
    "from tensorflow.keras.models import Sequential\n",
    "from keras.models import Model\n",
    "from keras.layers.embeddings import Embedding\n",
    "from keras.layers.merge import Concatenate\n",
    "from tensorflow.keras import regularizers\n",
    "from tensorflow.keras.layers import Dense,Dot,Conv1D,MaxPooling1D,Activation,Dropout,LSTM,Flatten,GlobalMaxPool1D,Input,BatchNormalization,Bidirectional"
   ]
  },
  {
   "cell_type": "code",
   "execution_count": 22,
   "metadata": {
    "execution": {
     "iopub.execute_input": "2021-05-21T16:41:23.698391Z",
     "iopub.status.busy": "2021-05-21T16:41:23.697984Z",
     "iopub.status.idle": "2021-05-21T16:41:24.994032Z",
     "shell.execute_reply": "2021-05-21T16:41:24.993198Z",
     "shell.execute_reply.started": "2021-05-21T16:41:23.698353Z"
    }
   },
   "outputs": [],
   "source": [
    "input1=Input(shape=(max_length,))\n",
    "e = Embedding(len(tokenizer.word_index)+1,128)(input1)\n",
    "lstm1=LSTM(64,return_sequences=True,dropout=0.5)(e)\n",
    "gp1=GlobalMaxPool1D()(lstm1)\n",
    "f1 = Flatten()(gp1)\n",
    "d1 = Dense(32, activation='relu',kernel_regularizer='l2')(gp1)\n",
    "dr1= Dropout(0.4)(d1)\n",
    "d2 = Dense(32, activation='relu',kernel_regularizer='l2')(dr1)\n",
    "dr2= Dropout(0.4)(d2)"
   ]
  },
  {
   "cell_type": "code",
   "execution_count": 23,
   "metadata": {
    "execution": {
     "iopub.execute_input": "2021-05-21T16:41:24.998721Z",
     "iopub.status.busy": "2021-05-21T16:41:24.998463Z",
     "iopub.status.idle": "2021-05-21T16:41:25.015233Z",
     "shell.execute_reply": "2021-05-21T16:41:25.014393Z",
     "shell.execute_reply.started": "2021-05-21T16:41:24.998694Z"
    }
   },
   "outputs": [],
   "source": [
    "output = Dense(no_classes, activation='softmax')(dr2)\n",
    "model = Model(inputs=input1, outputs=output)"
   ]
  },
  {
   "cell_type": "code",
   "execution_count": 24,
   "metadata": {
    "execution": {
     "iopub.execute_input": "2021-05-21T16:41:25.017446Z",
     "iopub.status.busy": "2021-05-21T16:41:25.017092Z",
     "iopub.status.idle": "2021-05-21T16:41:25.032695Z",
     "shell.execute_reply": "2021-05-21T16:41:25.031853Z",
     "shell.execute_reply.started": "2021-05-21T16:41:25.017410Z"
    }
   },
   "outputs": [],
   "source": [
    "from tensorflow.keras.optimizers import Adam\n",
    "opt = Adam(learning_rate=0.001)\n",
    "model.compile(loss='categorical_crossentropy', optimizer='Adam', metrics=['acc'])"
   ]
  },
  {
   "cell_type": "code",
   "execution_count": 25,
   "metadata": {
    "execution": {
     "iopub.execute_input": "2021-05-21T16:41:25.034089Z",
     "iopub.status.busy": "2021-05-21T16:41:25.033820Z",
     "iopub.status.idle": "2021-05-21T16:41:25.046350Z",
     "shell.execute_reply": "2021-05-21T16:41:25.045280Z",
     "shell.execute_reply.started": "2021-05-21T16:41:25.034045Z"
    }
   },
   "outputs": [
    {
     "name": "stdout",
     "output_type": "stream",
     "text": [
      "Model: \"model\"\n",
      "_________________________________________________________________\n",
      "Layer (type)                 Output Shape              Param #   \n",
      "=================================================================\n",
      "input_1 (InputLayer)         [(None, 306)]             0         \n",
      "_________________________________________________________________\n",
      "embedding (Embedding)        (None, 306, 128)          10834688  \n",
      "_________________________________________________________________\n",
      "lstm (LSTM)                  (None, 306, 64)           49408     \n",
      "_________________________________________________________________\n",
      "global_max_pooling1d (Global (None, 64)                0         \n",
      "_________________________________________________________________\n",
      "dense (Dense)                (None, 32)                2080      \n",
      "_________________________________________________________________\n",
      "dropout (Dropout)            (None, 32)                0         \n",
      "_________________________________________________________________\n",
      "dense_1 (Dense)              (None, 32)                1056      \n",
      "_________________________________________________________________\n",
      "dropout_1 (Dropout)          (None, 32)                0         \n",
      "_________________________________________________________________\n",
      "dense_2 (Dense)              (None, 3)                 99        \n",
      "=================================================================\n",
      "Total params: 10,887,331\n",
      "Trainable params: 10,887,331\n",
      "Non-trainable params: 0\n",
      "_________________________________________________________________\n",
      "None\n"
     ]
    }
   ],
   "source": [
    "print(model.summary())"
   ]
  },
  {
   "cell_type": "code",
   "execution_count": 26,
   "metadata": {
    "execution": {
     "iopub.execute_input": "2021-05-21T16:41:25.047912Z",
     "iopub.status.busy": "2021-05-21T16:41:25.047575Z",
     "iopub.status.idle": "2021-05-21T16:41:25.089776Z",
     "shell.execute_reply": "2021-05-21T16:41:25.088798Z",
     "shell.execute_reply.started": "2021-05-21T16:41:25.047877Z"
    }
   },
   "outputs": [],
   "source": [
    "from sklearn.model_selection import train_test_split\n",
    "X_seq = np.array(X_seq)\n",
    "X_train,X_test,y_train,y_test= train_test_split(X_seq,y,train_size=0.4,test_size=0.3,shuffle=True)"
   ]
  },
  {
   "cell_type": "code",
   "execution_count": 27,
   "metadata": {
    "execution": {
     "iopub.execute_input": "2021-05-21T16:41:25.091641Z",
     "iopub.status.busy": "2021-05-21T16:41:25.091074Z",
     "iopub.status.idle": "2021-05-21T16:41:25.097697Z",
     "shell.execute_reply": "2021-05-21T16:41:25.096692Z",
     "shell.execute_reply.started": "2021-05-21T16:41:25.091594Z"
    }
   },
   "outputs": [],
   "source": [
    "from tensorflow.keras.callbacks import EarlyStopping\n",
    "early_stop = EarlyStopping(monitor='val_loss',patience = 2, \n",
    "                           mode='min', restore_best_weights=True)"
   ]
  },
  {
   "cell_type": "code",
   "execution_count": 28,
   "metadata": {
    "execution": {
     "iopub.execute_input": "2021-05-21T16:41:25.099383Z",
     "iopub.status.busy": "2021-05-21T16:41:25.098999Z",
     "iopub.status.idle": "2021-05-21T16:42:34.878716Z",
     "shell.execute_reply": "2021-05-21T16:42:34.877803Z",
     "shell.execute_reply.started": "2021-05-21T16:41:25.099347Z"
    }
   },
   "outputs": [
    {
     "name": "stdout",
     "output_type": "stream",
     "text": [
      "Epoch 1/10\n",
      "46/46 [==============================] - 13s 227ms/step - loss: 1.7436 - acc: 0.4160 - val_loss: 1.5006 - val_acc: 0.4402\n",
      "Epoch 2/10\n",
      "46/46 [==============================] - 10s 212ms/step - loss: 1.4476 - acc: 0.4243 - val_loss: 1.2496 - val_acc: 0.4402\n",
      "Epoch 3/10\n",
      "46/46 [==============================] - 9s 204ms/step - loss: 1.2147 - acc: 0.4448 - val_loss: 1.0390 - val_acc: 0.5975\n",
      "Epoch 4/10\n",
      "46/46 [==============================] - 9s 205ms/step - loss: 0.9704 - acc: 0.6140 - val_loss: 0.8774 - val_acc: 0.6629\n",
      "Epoch 5/10\n",
      "46/46 [==============================] - 9s 201ms/step - loss: 0.7473 - acc: 0.7471 - val_loss: 0.7971 - val_acc: 0.7293\n",
      "Epoch 6/10\n",
      "46/46 [==============================] - 10s 210ms/step - loss: 0.6359 - acc: 0.8330 - val_loss: 0.8584 - val_acc: 0.7226\n",
      "Epoch 7/10\n",
      "46/46 [==============================] - 9s 198ms/step - loss: 0.5328 - acc: 0.8697 - val_loss: 0.8765 - val_acc: 0.7214\n"
     ]
    }
   ],
   "source": [
    "history = model.fit(x=X_train, y=y_train, batch_size=256, epochs=10,validation_split=0.3,shuffle=True,callbacks=[early_stop])"
   ]
  },
  {
   "cell_type": "code",
   "execution_count": 29,
   "metadata": {
    "execution": {
     "iopub.execute_input": "2021-05-21T16:42:34.881917Z",
     "iopub.status.busy": "2021-05-21T16:42:34.881285Z",
     "iopub.status.idle": "2021-05-21T16:42:35.384722Z",
     "shell.execute_reply": "2021-05-21T16:42:35.383533Z",
     "shell.execute_reply.started": "2021-05-21T16:42:34.881875Z"
    }
   },
   "outputs": [],
   "source": [
    "model.save(\"model_nlp_deep.h5\")"
   ]
  },
  {
   "cell_type": "code",
   "execution_count": 31,
   "metadata": {
    "execution": {
     "iopub.execute_input": "2021-05-21T16:42:35.393089Z",
     "iopub.status.busy": "2021-05-21T16:42:35.392634Z",
     "iopub.status.idle": "2021-05-21T16:42:35.583720Z",
     "shell.execute_reply": "2021-05-21T16:42:35.582785Z",
     "shell.execute_reply.started": "2021-05-21T16:42:35.393034Z"
    }
   },
   "outputs": [
    {
     "data": {
      "image/png": "[encoded data removed]",
      "text/plain": [
       "<IPython.core.display.Image object>"
      ]
     },
     "execution_count": 31,
     "metadata": {},
     "output_type": "execute_result"
    }
   ],
   "source": [
    "from keras.utils.vis_utils import plot_model\n",
    "plot_model(model, to_file='model_plot.png', show_shapes=True, show_layer_names=True)"
   ]
  },
  {
   "cell_type": "code",
   "execution_count": 32,
   "metadata": {
    "execution": {
     "iopub.execute_input": "2021-05-21T16:42:35.585784Z",
     "iopub.status.busy": "2021-05-21T16:42:35.585394Z",
     "iopub.status.idle": "2021-05-21T16:42:38.196237Z",
     "shell.execute_reply": "2021-05-21T16:42:38.195349Z",
     "shell.execute_reply.started": "2021-05-21T16:42:35.585742Z"
    }
   },
   "outputs": [],
   "source": [
    "from sklearn.metrics import confusion_matrix\n",
    "y_pred = model.predict(X_test)\n",
    "cm = confusion_matrix(np.argmax(y_test,axis=1),np.argmax(y_pred,axis=1))"
   ]
  },
  {
   "cell_type": "code",
   "execution_count": 33,
   "metadata": {
    "execution": {
     "iopub.execute_input": "2021-05-21T16:42:38.198003Z",
     "iopub.status.busy": "2021-05-21T16:42:38.197653Z",
     "iopub.status.idle": "2021-05-21T16:42:38.205756Z",
     "shell.execute_reply": "2021-05-21T16:42:38.203046Z",
     "shell.execute_reply.started": "2021-05-21T16:42:38.197965Z"
    }
   },
   "outputs": [
    {
     "name": "stdout",
     "output_type": "stream",
     "text": [
      "[[0.9086952  0.01882428 0.07248053]\n",
      " [0.6951686  0.03500389 0.26982749]\n",
      " [0.28490493 0.37738392 0.33771116]\n",
      " ...\n",
      " [0.15032677 0.2075845  0.6420887 ]\n",
      " [0.30124733 0.37374827 0.32500434]\n",
      " [0.9071271  0.02021765 0.07265524]]\n"
     ]
    }
   ],
   "source": [
    "print(y_pred)"
   ]
  },
  {
   "cell_type": "code",
   "execution_count": 34,
   "metadata": {
    "execution": {
     "iopub.execute_input": "2021-05-21T16:42:38.207954Z",
     "iopub.status.busy": "2021-05-21T16:42:38.207496Z",
     "iopub.status.idle": "2021-05-21T16:42:39.378967Z",
     "shell.execute_reply": "2021-05-21T16:42:39.378103Z",
     "shell.execute_reply.started": "2021-05-21T16:42:38.207910Z"
    }
   },
   "outputs": [
    {
     "name": "stdout",
     "output_type": "stream",
     "text": [
      "Evaluate on test df\n",
      "97/97 [==============================] - 1s 12ms/step - loss: 0.8116 - acc: 0.7301\n"
     ]
    }
   ],
   "source": [
    "print(\"Evaluate on test df\")\n",
    "results = model.evaluate(X_test, y_test, batch_size=128)"
   ]
  },
  {
   "cell_type": "code",
   "execution_count": 35,
   "metadata": {
    "execution": {
     "iopub.execute_input": "2021-05-21T16:42:39.380765Z",
     "iopub.status.busy": "2021-05-21T16:42:39.380344Z",
     "iopub.status.idle": "2021-05-21T16:42:39.388913Z",
     "shell.execute_reply": "2021-05-21T16:42:39.388145Z",
     "shell.execute_reply.started": "2021-05-21T16:42:39.380723Z"
    }
   },
   "outputs": [
    {
     "name": "stdout",
     "output_type": "stream",
     "text": [
      "Test Loss 0.8115623593330383 \n",
      "Test Accuracy: 0.7300777435302734\n"
     ]
    }
   ],
   "source": [
    "print(\"Test Loss\",results[0],\"\\nTest Accuracy:\", results[1])"
   ]
  },
  {
   "cell_type": "code",
   "execution_count": 36,
   "metadata": {
    "execution": {
     "iopub.execute_input": "2021-05-21T16:42:39.390895Z",
     "iopub.status.busy": "2021-05-21T16:42:39.390620Z",
     "iopub.status.idle": "2021-05-21T16:42:39.616771Z",
     "shell.execute_reply": "2021-05-21T16:42:39.616027Z",
     "shell.execute_reply.started": "2021-05-21T16:42:39.390868Z"
    }
   },
   "outputs": [
    {
     "data": {
      "image/png": "[encoded data removed]",
      "text/plain": [
       "<Figure size 720x720 with 2 Axes>"
      ]
     },
     "metadata": {
      "needs_background": "light"
     },
     "output_type": "display_data"
    }
   ],
   "source": [
    "classes=['Negative', 'Neutral', 'Positive']\n",
    "import matplotlib.pyplot as plt\n",
    "plt.figure(figsize=(10,10))\n",
    "plt.imshow(cm, interpolation='nearest', cmap=plt.cm.Blues)\n",
    "plt.title('Confusion Matrix')\n",
    "plt.colorbar()\n",
    "tick_marks = np.arange(no_classes)\n",
    "plt.xticks(tick_marks, classes, rotation=90)\n",
    "plt.yticks(tick_marks, classes)\n",
    "plt.ylabel('True label')\n",
    "plt.xlabel('Predicted label')\n",
    "thresh = cm.max() / 2.\n",
    "for i in range (cm.shape[0]):\n",
    "    for j in range (cm.shape[1]):\n",
    "        plt.text(j, i, cm[i, j],horizontalalignment=\"center\",color=\"white\" if cm[i, j] > thresh else \"black\")\n",
    "plt.show()"
   ]
  },
  {
   "cell_type": "code",
   "execution_count": 37,
   "metadata": {
    "execution": {
     "iopub.execute_input": "2021-05-21T16:42:39.618424Z",
     "iopub.status.busy": "2021-05-21T16:42:39.618051Z",
     "iopub.status.idle": "2021-05-21T16:42:39.761177Z",
     "shell.execute_reply": "2021-05-21T16:42:39.760282Z",
     "shell.execute_reply.started": "2021-05-21T16:42:39.618386Z"
    }
   },
   "outputs": [
    {
     "data": {
      "image/png": "[encoded data removed]",
      "text/plain": [
       "<Figure size 432x288 with 1 Axes>"
      ]
     },
     "metadata": {
      "needs_background": "light"
     },
     "output_type": "display_data"
    }
   ],
   "source": [
    "plt.plot(history.history['acc'])\n",
    "plt.plot(history.history['val_acc'])\n",
    "plt.title('Model Accuracy')\n",
    "plt.ylabel('Accuracy')\n",
    "plt.xlabel('Epoch')\n",
    "plt.legend(['Train', 'Val'], loc='upper left')\n",
    "plt.show()"
   ]
  },
  {
   "cell_type": "code",
   "execution_count": 38,
   "metadata": {
    "execution": {
     "iopub.execute_input": "2021-05-21T16:42:39.762802Z",
     "iopub.status.busy": "2021-05-21T16:42:39.762441Z",
     "iopub.status.idle": "2021-05-21T16:42:39.901666Z",
     "shell.execute_reply": "2021-05-21T16:42:39.900577Z",
     "shell.execute_reply.started": "2021-05-21T16:42:39.762739Z"
    }
   },
   "outputs": [
    {
     "data": {
      "image/png": "[encoded data removed]",
      "text/plain": [
       "<Figure size 432x288 with 1 Axes>"
      ]
     },
     "metadata": {
      "needs_background": "light"
     },
     "output_type": "display_data"
    }
   ],
   "source": [
    "plt.plot(history.history['loss'])\n",
    "plt.plot(history.history['val_loss'])\n",
    "plt.title('Model Loss')\n",
    "plt.ylabel('Loss')\n",
    "plt.xlabel('Epoch')\n",
    "plt.legend(['Train', 'Val'], loc='upper left')\n",
    "plt.show()"
   ]
  },
  {
   "cell_type": "code",
   "execution_count": 39,
   "metadata": {
    "execution": {
     "iopub.execute_input": "2021-05-21T16:42:39.903524Z",
     "iopub.status.busy": "2021-05-21T16:42:39.903114Z",
     "iopub.status.idle": "2021-05-21T16:42:39.929450Z",
     "shell.execute_reply": "2021-05-21T16:42:39.928493Z",
     "shell.execute_reply.started": "2021-05-21T16:42:39.903484Z"
    }
   },
   "outputs": [
    {
     "name": "stdout",
     "output_type": "stream",
     "text": [
      "Classification Report\n",
      "              precision    recall  f1-score   support\n",
      "\n",
      "           0       0.71      0.78      0.74      4622\n",
      "           1       0.73      0.49      0.59      2294\n",
      "           2       0.75      0.78      0.77      5432\n",
      "\n",
      "    accuracy                           0.73     12348\n",
      "   macro avg       0.73      0.69      0.70     12348\n",
      "weighted avg       0.73      0.73      0.73     12348\n",
      "\n"
     ]
    }
   ],
   "source": [
    "import numpy as np\n",
    "y_test_arg=np.argmax(y_test,axis=1)\n",
    "from sklearn.metrics import classification_report, confusion_matrix\n",
    "print('Classification Report')\n",
    "print(classification_report(y_test_arg, np.argmax(y_pred, axis=1)))"
   ]
  },
  {
   "cell_type": "code",
   "execution_count": 40,
   "metadata": {
    "execution": {
     "iopub.execute_input": "2021-05-21T16:42:39.931135Z",
     "iopub.status.busy": "2021-05-21T16:42:39.930738Z",
     "iopub.status.idle": "2021-05-21T16:42:39.941488Z",
     "shell.execute_reply": "2021-05-21T16:42:39.940312Z",
     "shell.execute_reply.started": "2021-05-21T16:42:39.931095Z"
    }
   },
   "outputs": [],
   "source": [
    "def predict_emotion(stri):\n",
    "    df = pd.DataFrame([stri], columns=['tweet'])\n",
    "    df[\"tweet\"]=df[\"tweet\"].str.replace('[^\\w\\s]', '')\n",
    "    sw=stopwords.words('english')\n",
    "    df[\"tweet\"]=df[\"tweet\"].apply(lambda x: \" \".join(x for x in x.split() if x not in sw))\n",
    "    df[\"tweet\"]=df[\"tweet\"].apply(lambda x:\" \".join([Word(word).lemmatize() for word in x.split()]))\n",
    "    df['tweet'] = df['tweet'].str.replace('^0-9.\\-', '')\n",
    "    seeq = df['tweet']\n",
    "    tokenizer.fit_on_texts(seeq)\n",
    "    X_seq = tokenizer.texts_to_sequences(seeq)\n",
    "    X_seq = sequence.pad_sequences(X_seq, maxlen=max_length)\n",
    "    X_seq = np.array(X_seq)\n",
    "    p=model.predict(X_seq)\n",
    "    print(lb.classes_[np.argmax(p,axis=1)])"
   ]
  },
  {
   "cell_type": "code",
   "execution_count": 41,
   "metadata": {
    "execution": {
     "iopub.execute_input": "2021-05-21T16:42:39.943134Z",
     "iopub.status.busy": "2021-05-21T16:42:39.942678Z",
     "iopub.status.idle": "2021-05-21T16:42:40.091933Z",
     "shell.execute_reply": "2021-05-21T16:42:40.090915Z",
     "shell.execute_reply.started": "2021-05-21T16:42:39.943095Z"
    }
   },
   "outputs": [
    {
     "name": "stdout",
     "output_type": "stream",
     "text": [
      "['Negative']\n"
     ]
    }
   ],
   "source": [
    "predict_emotion(\"Global stocks plummeted today due to fear surrounding #COVID2019 and falling oil prices, which saw the biggest one-day drop since the 1991 Gulf War\")"
   ]
  }
 ],
 "metadata": {
  "kernelspec": {
   "display_name": "Python 3",
   "language": "python",
   "name": "python3"
  },
  "language_info": {
   "codemirror_mode": {
    "name": "ipython",
    "version": 3
   },
   "file_extension": ".py",
   "mimetype": "text/x-python",
   "name": "python",
   "nbconvert_exporter": "python",
   "pygments_lexer": "ipython3",
   "version": "3.8.8"
  }
 },
 "nbformat": 4,
 "nbformat_minor": 4
}
